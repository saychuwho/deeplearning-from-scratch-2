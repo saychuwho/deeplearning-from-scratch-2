{
 "cells": [
  {
   "cell_type": "markdown",
   "metadata": {},
   "source": [
    "# Chapter 1 신경망 복습"
   ]
  },
  {
   "cell_type": "markdown",
   "metadata": {},
   "source": [
    "## 1.3 신경망 학습"
   ]
  },
  {
   "cell_type": "markdown",
   "metadata": {},
   "source": [
    "### 1.3.4 계산 그래프\n",
    "\n",
    "**덧셈 노드**: '상류로부터 받은 기울기'를 그대로 흘려보낸다.\n",
    "\n",
    "<img src=\"./deep_learning_2_images/fig 1-18.png\" width=\"60%\">\n",
    "\n",
    "**곱셈 노드**: '상류로부터 받은 기울기'에 '순전파 시의 입력을 서로 바꾼 값'을 곱한다.\n",
    "\n",
    "<img src=\"./deep_learning_2_images/fig 1-19.png\" width=\"60%\">\n",
    "\n",
    "**분기 노드**: \"복제 노드\"라고 볼 수 있다. 역전파는 상류에서 온 기울기들의 합이다.\n",
    "\n",
    "<img src=\"./deep_learning_2_images/fig 1-20.png\" width=\"60%\">\n",
    "\n",
    "**Repeat 노드**: 분기 노드의 일반화 형태. 역전파는 상류에서 온 기울기들의 합니다.\n",
    "\n",
    "<img src=\"./deep_learning_2_images/fig 1-21.png\" width=\"60%\">\n",
    "\n",
    "**Sum 노드**: 덧셈 노드의 일반화. '상류로부터 온 기울기'를 모든 화살표에 분배한다.\n",
    "\n",
    "<img src=\"./deep_learning_2_images/fig 1-22.png\" width=\"60%\">\n",
    "\n",
    "**MatMul 노드**: 다시 한번 봐서 공부해야 한다.\n",
    "\n",
    "<img src=\"./deep_learning_2_images/fig 1-23.png\" width=\"50%\">\n",
    "\n",
    "<img src=\"./deep_learning_2_images/fig 1-24.png\" width=\"50%\">\n",
    "\n",
    "<img src=\"./deep_learning_2_images/fig 1-25.png\" width=\"50%\">"
   ]
  }
 ],
 "metadata": {
  "kernelspec": {
   "display_name": "deeplearning",
   "language": "python",
   "name": "python3"
  },
  "language_info": {
   "name": "python",
   "version": "3.8.20"
  }
 },
 "nbformat": 4,
 "nbformat_minor": 2
}
